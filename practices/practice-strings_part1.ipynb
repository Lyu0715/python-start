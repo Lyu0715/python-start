{
  "cells": [
    {
      "cell_type": "markdown",
      "metadata": {
        "id": "8DAct2oMT8bM"
      },
      "source": [
        "# (연습) 문자열 1부"
      ]
    },
    {
      "cell_type": "markdown",
      "metadata": {
        "id": "MgBCG_zE0A9f"
      },
      "source": [
        "**주의 사항**\n",
        "\n",
        "* 기존에 작성된 코드 셀과 텍스트 셀은 수정하지 않는다.\n",
        "* 필요한 경우 코드 셀 또는 텍스트 셀을 추가해서 사용한다."
      ]
    },
    {
      "cell_type": "markdown",
      "metadata": {
        "id": "QIGM0XuGT8bR"
      },
      "source": [
        "**문제 1**"
      ]
    },
    {
      "cell_type": "markdown",
      "metadata": {
        "id": "FwjIauutT8bR"
      },
      "source": [
        "아래 코드의 실행 결과를 설명하라."
      ]
    },
    {
      "cell_type": "code",
      "execution_count": null,
      "metadata": {
        "id": "hQXDcxY2T8bR",
        "outputId": "dd18ce3b-754d-4d54-cb8a-14b1942038ea"
      },
      "outputs": [
        {
          "name": "stdout",
          "output_type": "stream",
          "text": [
            "\tHello World\n",
            "\\\n"
          ]
        }
      ],
      "source": [
        "print(\"\\tHello World\\n\\\\\")"
      ]
    },
    {
      "cell_type": "code",
      "execution_count": null,
      "metadata": {
        "id": "FJy0NIYUT8bU"
      },
      "outputs": [],
      "source": [
        "# 코드를 작성한다.\n",
        "# 필요하면 코드셀 또는 텍스트셀을 추가할 수 있습니다.\n",
        "\n",
        "    Hello World\n",
        "\\"
      ]
    },
    {
      "cell_type": "markdown",
      "metadata": {
        "id": "7x6pYUodT8bU"
      },
      "source": [
        "**문제 2**"
      ]
    },
    {
      "cell_type": "markdown",
      "metadata": {
        "id": "CHk42nqyT8bU"
      },
      "source": [
        "아래 코드의 실행 결과를 설명하라."
      ]
    },
    {
      "cell_type": "code",
      "execution_count": null,
      "metadata": {
        "id": "T72TDJyzT8bU",
        "outputId": "886b59b0-ba5d-436c-a871-f4e17a9cab01"
      },
      "outputs": [
        {
          "data": {
            "text/plain": [
              "30"
            ]
          },
          "execution_count": 2,
          "metadata": {},
          "output_type": "execute_result"
        }
      ],
      "source": [
        "len(' \\t\\n' * 10)"
      ]
    },
    {
      "cell_type": "code",
      "execution_count": null,
      "metadata": {
        "id": "dzNqPd6bT8bV"
      },
      "outputs": [],
      "source": [
        "# 코드를 작성한다.\n",
        "# 필요하면 코드셀 또는 텍스트셀을 추가할 수 있습니다.\n",
        "# 공백하나 탭 하나 줄바꿈 하나 씩해서 10번이반복이라 30이다"
      ]
    },
    {
      "cell_type": "markdown",
      "metadata": {
        "id": "Vz0tdZTZT8bV"
      },
      "source": [
        "**문제 3**"
      ]
    },
    {
      "cell_type": "markdown",
      "metadata": {
        "id": "bLGLd9ipT8bV"
      },
      "source": [
        "아래 세 코드의 실행 결과의 차이점을 설명하라."
      ]
    },
    {
      "cell_type": "markdown",
      "metadata": {
        "id": "NhvujlsBT8bV"
      },
      "source": [
        "- 코드 1"
      ]
    },
    {
      "cell_type": "code",
      "execution_count": null,
      "metadata": {
        "id": "f0iNGoHxT8bW",
        "outputId": "9fa3e325-77a2-44a4-c3ad-5f61222f64b9"
      },
      "outputs": [
        {
          "name": "stdout",
          "output_type": "stream",
          "text": [
            "C:\\Users\\user\\Downloads\n"
          ]
        }
      ],
      "source": [
        "print(r\"C:\\Users\\user\\Downloads\")"
      ]
    },
    {
      "cell_type": "markdown",
      "metadata": {
        "id": "8SgnBX2mT8bX"
      },
      "source": [
        "- 코드 2"
      ]
    },
    {
      "cell_type": "code",
      "execution_count": null,
      "metadata": {
        "id": "G0tGHvjhT8bX",
        "outputId": "48ca3857-26a2-4075-c41f-51f065228a03"
      },
      "outputs": [
        {
          "ename": "SyntaxError",
          "evalue": "unterminated string literal (detected at line 1) (3529336379.py, line 1)",
          "output_type": "error",
          "traceback": [
            "\u001b[0;36m  Cell \u001b[0;32mIn[4], line 1\u001b[0;36m\u001b[0m\n\u001b[0;31m    print(r\"C:\\Users\\user\\Downloads\\\")\u001b[0m\n\u001b[0m          ^\u001b[0m\n\u001b[0;31mSyntaxError\u001b[0m\u001b[0;31m:\u001b[0m unterminated string literal (detected at line 1)\n"
          ]
        }
      ],
      "source": [
        "print(r\"C:\\Users\\user\\Downloads\\\")"
      ]
    },
    {
      "cell_type": "markdown",
      "metadata": {
        "id": "yE4QPdcMT8bX"
      },
      "source": [
        "- 코드 3"
      ]
    },
    {
      "cell_type": "code",
      "execution_count": null,
      "metadata": {
        "id": "N-Pz0XpxT8bX",
        "outputId": "75b1327e-9820-49f0-e516-f70987257220"
      },
      "outputs": [
        {
          "name": "stdout",
          "output_type": "stream",
          "text": [
            "C:\\Users\\user\\Downloads\\\\\n"
          ]
        }
      ],
      "source": [
        "print(r\"C:\\Users\\user\\Downloads\\\\\")"
      ]
    },
    {
      "cell_type": "code",
      "execution_count": null,
      "metadata": {
        "id": "ppFmV73NT8bY"
      },
      "outputs": [],
      "source": [
        "# 코드를 작성한다.\n",
        "# 필요하면 코드셀 또는 텍스트셀을 추가할 수 있습니다.\n"
      ]
    },
    {
      "cell_type": "markdown",
      "metadata": {
        "id": "b2HlpB5WT8bY"
      },
      "source": [
        "**문제 4**"
      ]
    },
    {
      "cell_type": "markdown",
      "metadata": {
        "id": "XTYuGF82T8bY"
      },
      "source": [
        "아래 부동소수점을 소수점 이하 셋째 자리까지만 출력되도록 f-문자열을 활용하라."
      ]
    },
    {
      "cell_type": "code",
      "execution_count": null,
      "metadata": {
        "id": "_cQjzjaFT8bY"
      },
      "outputs": [],
      "source": [
        "num = 23.36778\n",
        "num1 = -84.99888"
      ]
    },
    {
      "cell_type": "code",
      "execution_count": null,
      "metadata": {
        "id": "iQV56Ou5T8bY"
      },
      "outputs": [],
      "source": [
        "# 코드를 작성한다.\n",
        "# 필요하면 코드셀 또는 텍스트셀을 추가할 수 있습니다.\n"
      ]
    },
    {
      "cell_type": "markdown",
      "metadata": {
        "id": "79jRbzfFT8bZ"
      },
      "source": [
        "**문제 5**"
      ]
    },
    {
      "cell_type": "markdown",
      "metadata": {
        "id": "oqkHLPthT8bZ"
      },
      "source": [
        "아래 부동소수점의 소수점을 모두 버리로 정수 부문만 출력되도록 f-문자열을 활용하라.\n",
        "또한 정수는 총 10칸을 차지하도록 한다.\n",
        "단, `int()` 함수는 사용하지 않는다."
      ]
    },
    {
      "cell_type": "code",
      "execution_count": null,
      "metadata": {
        "id": "1vWkBmykT8bZ"
      },
      "outputs": [],
      "source": [
        "num2 = 23.36778\n",
        "num3 = 8223.62874636778"
      ]
    },
    {
      "cell_type": "code",
      "execution_count": null,
      "metadata": {
        "id": "MD-E5QpaT8bZ"
      },
      "outputs": [],
      "source": [
        "# 코드를 작성한다.\n",
        "# 필요하면 코드셀 또는 텍스트셀을 추가할 수 있습니다.\n"
      ]
    },
    {
      "cell_type": "markdown",
      "metadata": {
        "id": "wjQ2OZmDT8bZ"
      },
      "source": [
        "**문제 6**"
      ]
    },
    {
      "cell_type": "markdown",
      "metadata": {
        "id": "pot1zuJyT8bZ"
      },
      "source": [
        "아래 두 개의 부동소수점을 총 15 칸을 차지하도록 f-문자열을 활용하라.\n",
        "또한 소수점 이하 다섯째 자리까지만 출력되록 한다.\n",
        "단 모든 정수는 오른쪽으로 정렬되어야 하며 앞쪽 빈칸은 `+` 기호로 채운다."
      ]
    },
    {
      "cell_type": "code",
      "execution_count": null,
      "metadata": {
        "id": "B_JsY7nkT8ba"
      },
      "outputs": [],
      "source": [
        "num4 = 887223.8348161\n",
        "num5 = 6833.127230009267"
      ]
    },
    {
      "cell_type": "code",
      "execution_count": null,
      "metadata": {
        "id": "lk7zRfVvT8ba"
      },
      "outputs": [],
      "source": [
        "# 코드를 작성한다.\n",
        "# 필요하면 코드셀 또는 텍스트셀을 추가할 수 있습니다.\n"
      ]
    }
  ],
  "metadata": {
    "colab": {
      "name": "실습답안3.ipynb",
      "provenance": []
    },
    "kernelspec": {
      "display_name": "Python 3 (ipykernel)",
      "language": "python",
      "name": "python3"
    },
    "language_info": {
      "codemirror_mode": {
        "name": "ipython",
        "version": 3
      },
      "file_extension": ".py",
      "mimetype": "text/x-python",
      "name": "python",
      "nbconvert_exporter": "python",
      "pygments_lexer": "ipython3",
      "version": "3.12.2"
    }
  },
  "nbformat": 4,
  "nbformat_minor": 0
}