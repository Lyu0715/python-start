{
  "cells": [
    {
      "cell_type": "markdown",
      "metadata": {
        "id": "view-in-github",
        "colab_type": "text"
      },
      "source": [
        "<a href=\"https://colab.research.google.com/github/Lyu0715/python-start/blob/main/python_start_3.ipynb\" target=\"_parent\"><img src=\"https://colab.research.google.com/assets/colab-badge.svg\" alt=\"Open In Colab\"/></a>"
      ]
    },
    {
      "cell_type": "markdown",
      "metadata": {
        "id": "7I26Gt7vXEso"
      },
      "source": [
        "# (연습) 문자열 1부"
      ]
    },
    {
      "cell_type": "markdown",
      "metadata": {
        "id": "MgBCG_zE0A9f"
      },
      "source": [
        "**주의 사항**\n",
        "\n",
        "* 기존에 작성된 코드 셀과 텍스트 셀은 수정하지 않는다.\n",
        "* 필요한 경우 코드 셀 또는 텍스트 셀을 추가해서 사용한다."
      ]
    },
    {
      "cell_type": "markdown",
      "metadata": {
        "id": "5g8nCVUjXEsx"
      },
      "source": [
        "**문제 1**"
      ]
    },
    {
      "cell_type": "markdown",
      "metadata": {
        "id": "6YjNdoUOXEsx"
      },
      "source": [
        "아래 코드의 실행 결과를 설명하라."
      ]
    },
    {
      "cell_type": "code",
      "execution_count": null,
      "metadata": {
        "id": "CgT5cXWfXEsy",
        "outputId": "f735b5d9-c104-4996-84a3-83de5fb236d9"
      },
      "outputs": [
        {
          "name": "stdout",
          "output_type": "stream",
          "text": [
            "\tHello World\n",
            "\\\n"
          ]
        }
      ],
      "source": [
        "print(\"\\tHello World\\n\\\\\")"
      ]
    },
    {
      "cell_type": "code",
      "execution_count": null,
      "metadata": {
        "id": "a66VCc2SXEs0"
      },
      "outputs": [],
      "source": [
        "# 코드를 작성한다.\n",
        "# 필요하면 코드셀 또는 텍스트셀을 추가할 수 있습니다.\n"
      ]
    },
    {
      "cell_type": "markdown",
      "metadata": {
        "id": "OXXantdGXEs0"
      },
      "source": [
        "**문제 2**"
      ]
    },
    {
      "cell_type": "markdown",
      "metadata": {
        "id": "gctziZs2XEs1"
      },
      "source": [
        "아래 코드의 실행 결과를 설명하라."
      ]
    },
    {
      "cell_type": "code",
      "execution_count": null,
      "metadata": {
        "id": "b4UTnndMXEs1",
        "outputId": "7520fcef-55e3-4775-876c-34fffd82cf21"
      },
      "outputs": [
        {
          "data": {
            "text/plain": [
              "30"
            ]
          },
          "execution_count": 2,
          "metadata": {},
          "output_type": "execute_result"
        }
      ],
      "source": [
        "len(' \\t\\n' * 10)"
      ]
    },
    {
      "cell_type": "code",
      "execution_count": null,
      "metadata": {
        "id": "CV4YA5cdXEs2"
      },
      "outputs": [],
      "source": [
        "# 코드를 작성한다.\n",
        "# 필요하면 코드셀 또는 텍스트셀을 추가할 수 있습니다.\n"
      ]
    },
    {
      "cell_type": "markdown",
      "metadata": {
        "id": "X9-dNqGGXEs2"
      },
      "source": [
        "**문제 3**"
      ]
    },
    {
      "cell_type": "markdown",
      "metadata": {
        "id": "hOvRIkgpXEs2"
      },
      "source": [
        "아래 세 코드의 실행 결과의 차이점을 설명하라."
      ]
    },
    {
      "cell_type": "markdown",
      "metadata": {
        "id": "thWizQPTXEs2"
      },
      "source": [
        "- 코드 1"
      ]
    },
    {
      "cell_type": "code",
      "execution_count": null,
      "metadata": {
        "id": "g3wKsUPlXEs3",
        "outputId": "f81b6e95-4f43-4fd6-fc6a-10c1b3755afc"
      },
      "outputs": [
        {
          "name": "stdout",
          "output_type": "stream",
          "text": [
            "C:\\Users\\user\\Downloads\n"
          ]
        }
      ],
      "source": [
        "print(r\"C:\\Users\\user\\Downloads\")"
      ]
    },
    {
      "cell_type": "markdown",
      "metadata": {
        "id": "_zbraRXkXEs3"
      },
      "source": [
        "- 코드 2"
      ]
    },
    {
      "cell_type": "code",
      "execution_count": null,
      "metadata": {
        "id": "NyV-4SaYXEs3",
        "outputId": "9196a472-1368-4125-b7e4-55003f1b9256"
      },
      "outputs": [
        {
          "ename": "SyntaxError",
          "evalue": "unterminated string literal (detected at line 1) (3529336379.py, line 1)",
          "output_type": "error",
          "traceback": [
            "\u001b[0;36m  Cell \u001b[0;32mIn[4], line 1\u001b[0;36m\u001b[0m\n\u001b[0;31m    print(r\"C:\\Users\\user\\Downloads\\\")\u001b[0m\n\u001b[0m          ^\u001b[0m\n\u001b[0;31mSyntaxError\u001b[0m\u001b[0;31m:\u001b[0m unterminated string literal (detected at line 1)\n"
          ]
        }
      ],
      "source": [
        "print(r\"C:\\Users\\user\\Downloads\\\")"
      ]
    },
    {
      "cell_type": "markdown",
      "metadata": {
        "id": "UpqZzCF1XEs4"
      },
      "source": [
        "- 코드 3"
      ]
    },
    {
      "cell_type": "code",
      "execution_count": null,
      "metadata": {
        "id": "cS6KjSs9XEs4",
        "outputId": "6efeb2bd-bc7b-4c50-df1d-58fd2eda72dc"
      },
      "outputs": [
        {
          "name": "stdout",
          "output_type": "stream",
          "text": [
            "C:\\Users\\user\\Downloads\\\\\n"
          ]
        }
      ],
      "source": [
        "print(r\"C:\\Users\\user\\Downloads\\\\\")"
      ]
    },
    {
      "cell_type": "code",
      "execution_count": null,
      "metadata": {
        "id": "G4OMfy93XEs4"
      },
      "outputs": [],
      "source": [
        "# 코드를 작성한다.\n",
        "# 필요하면 코드셀 또는 텍스트셀을 추가할 수 있습니다.\n"
      ]
    },
    {
      "cell_type": "markdown",
      "metadata": {
        "id": "K9qe4IMFXEs4"
      },
      "source": [
        "**문제 4**"
      ]
    },
    {
      "cell_type": "markdown",
      "metadata": {
        "id": "PDmc5JRSXEs4"
      },
      "source": [
        "아래 부동소수점을 소수점 이하 셋째 자리까지만 출력되도록 f-문자열을 활용하라."
      ]
    },
    {
      "cell_type": "code",
      "execution_count": null,
      "metadata": {
        "id": "c0I-v8EPXEs5"
      },
      "outputs": [],
      "source": [
        "num = 23.36778\n",
        "num1 = -84.99888"
      ]
    },
    {
      "cell_type": "code",
      "execution_count": null,
      "metadata": {
        "id": "lS2G9f4rXEs5"
      },
      "outputs": [],
      "source": [
        "# 코드를 작성한다.\n",
        "# 필요하면 코드셀 또는 텍스트셀을 추가할 수 있습니다.\n"
      ]
    },
    {
      "cell_type": "markdown",
      "metadata": {
        "id": "tgg4QhzuXEs5"
      },
      "source": [
        "**문제 5**"
      ]
    },
    {
      "cell_type": "markdown",
      "metadata": {
        "id": "5wW9LrYBXEs5"
      },
      "source": [
        "아래 부동소수점의 소수점을 모두 버리로 정수 부문만 출력되도록 f-문자열을 활용하라.\n",
        "또한 정수는 총 10칸을 차지하도록 한다.\n",
        "단, `int()` 함수는 사용하지 않는다."
      ]
    },
    {
      "cell_type": "code",
      "execution_count": null,
      "metadata": {
        "id": "kPWV_ZH5XEs5"
      },
      "outputs": [],
      "source": [
        "num2 = 23.36778\n",
        "num3 = 8223.62874636778"
      ]
    },
    {
      "cell_type": "code",
      "execution_count": null,
      "metadata": {
        "id": "_f1828GOXEs5"
      },
      "outputs": [],
      "source": [
        "# 코드를 작성한다.\n",
        "# 필요하면 코드셀 또는 텍스트셀을 추가할 수 있습니다.\n"
      ]
    },
    {
      "cell_type": "markdown",
      "metadata": {
        "id": "MLmYbydnXEs6"
      },
      "source": [
        "**문제 6**"
      ]
    },
    {
      "cell_type": "markdown",
      "metadata": {
        "id": "-_mKtdkXXEs6"
      },
      "source": [
        "아래 두 개의 부동소수점을 총 15 칸을 차지하도록 f-문자열을 활용하라.\n",
        "또한 소수점 이하 다섯째 자리까지만 출력되록 한다.\n",
        "단 모든 정수는 오른쪽으로 정렬되어야 하며 앞쪽 빈칸은 `+` 기호로 채운다."
      ]
    },
    {
      "cell_type": "code",
      "execution_count": null,
      "metadata": {
        "id": "pSe6bzKaXEs6"
      },
      "outputs": [],
      "source": [
        "num4 = 887223.8348161\n",
        "num5 = 6833.127230009267"
      ]
    },
    {
      "cell_type": "code",
      "execution_count": null,
      "metadata": {
        "id": "w-f14mljXEs6"
      },
      "outputs": [],
      "source": [
        "# 코드를 작성한다.\n",
        "# 필요하면 코드셀 또는 텍스트셀을 추가할 수 있습니다.\n"
      ]
    }
  ],
  "metadata": {
    "colab": {
      "name": "실습답안3.ipynb",
      "provenance": [],
      "include_colab_link": true
    },
    "kernelspec": {
      "display_name": "Python 3 (ipykernel)",
      "language": "python",
      "name": "python3"
    },
    "language_info": {
      "codemirror_mode": {
        "name": "ipython",
        "version": 3
      },
      "file_extension": ".py",
      "mimetype": "text/x-python",
      "name": "python",
      "nbconvert_exporter": "python",
      "pygments_lexer": "ipython3",
      "version": "3.12.2"
    }
  },
  "nbformat": 4,
  "nbformat_minor": 0
}